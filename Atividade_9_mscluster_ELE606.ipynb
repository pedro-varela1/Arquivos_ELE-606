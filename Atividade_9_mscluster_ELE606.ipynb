{
  "nbformat": 4,
  "nbformat_minor": 0,
  "metadata": {
    "colab": {
      "provenance": [],
      "authorship_tag": "ABX9TyPts59ep9rk/Yidcmjkus7P",
      "include_colab_link": true
    },
    "kernelspec": {
      "name": "python3",
      "display_name": "Python 3"
    },
    "language_info": {
      "name": "python"
    }
  },
  "cells": [
    {
      "cell_type": "markdown",
      "metadata": {
        "id": "view-in-github",
        "colab_type": "text"
      },
      "source": [
        "<a href=\"https://colab.research.google.com/github/pedro-varela1/Arquivos_ELE-606/blob/main/Atividade_9_mscluster_ELE606.ipynb\" target=\"_parent\"><img src=\"https://colab.research.google.com/assets/colab-badge.svg\" alt=\"Open In Colab\"/></a>"
      ]
    },
    {
      "cell_type": "markdown",
      "source": [
        "# Mean Shift Clustering\n",
        "## ELE606 - Tópicos Especiais em Inteligência Artificial\n",
        "\n",
        "> Aluno: [Pedro Artur Varela](https://github.com/pedro-varela1)\n",
        "\n",
        "<img src=\"https://th.bing.com/th/id/OIP.mKK2hp37UrbEcXsVl0-19AHaEu?rs=1&pid=ImgDetMain\"\n",
        "    style=\"width:500px; float: right; margin: 0 40px 40px 40px;\"></img>\n",
        "  \n",
        "![divider](https://webstockreview.net/images/divider-clipart-design-line-5.png)\n",
        "\n"
      ],
      "metadata": {
        "id": "5CYzLRp8jp1y"
      }
    },
    {
      "cell_type": "markdown",
      "source": [
        "## Introdução\n",
        "\n",
        "O Mean Shift Clustering visa descobrir \"bolhas\" em uma densidade suave de amostras. É um algoritmo baseado em centroides, que funciona atualizando candidatos a centroides para serem a média dos pontos dentro de uma determinada região. Esses candidatos são então filtrados em um estágio de pós-processamento para eliminar quase duplicatas para formar o conjunto final de centroides.\n",
        "\n",
        "---"
      ],
      "metadata": {
        "id": "PTC_OuHhyf50"
      }
    },
    {
      "cell_type": "markdown",
      "source": [
        "## Algoritmo e código"
      ],
      "metadata": {
        "id": "XQere5xRzFRe"
      }
    },
    {
      "cell_type": "markdown",
      "source": [
        "### Pré-processamento dos dados"
      ],
      "metadata": {
        "id": "Lxz8urInSruN"
      }
    },
    {
      "cell_type": "markdown",
      "source": [
        "Primeiramente, vamos importar os módulos utilizados."
      ],
      "metadata": {
        "id": "fZqXlN9QzPvO"
      }
    },
    {
      "cell_type": "code",
      "execution_count": null,
      "metadata": {
        "id": "X_Alo1CNw9U6"
      },
      "outputs": [],
      "source": [
        "from sklearn.datasets import load_wine    # Base de Dados\n",
        "from sklearn.cluster import MeanShift, estimate_bandwidth   # Modelo de Clustering\n",
        "import numpy as np    # Construcoes Matematicas\n",
        "import matplotlib.pyplot as plt   # Visualizacao\n",
        "from sklearn.preprocessing import StandardScaler    # Normalization"
      ]
    },
    {
      "cell_type": "markdown",
      "source": [
        "Vamos carregar a base de dados. Como vamos fazer um _clustering_, não nos preocupamos com as _labels_."
      ],
      "metadata": {
        "id": "Js3IlcfR0S_2"
      }
    },
    {
      "cell_type": "code",
      "source": [
        "# Load the Wine dataset\n",
        "data = load_wine()\n",
        "X = data.data[:, [6, 9]]  # 2 Features"
      ],
      "metadata": {
        "id": "9B4OvHyNPnFn"
      },
      "execution_count": null,
      "outputs": []
    },
    {
      "cell_type": "markdown",
      "source": [
        "Estimar largura de banda (a estimativa de largura de banda é importante para o Mean Shift)"
      ],
      "metadata": {
        "id": "Xh5wFGwK0zLG"
      }
    },
    {
      "cell_type": "code",
      "source": [
        "bandwidth = estimate_bandwidth(X, quantile=0.2, n_samples=len(X))\n",
        "\n",
        "print(bandwidth)"
      ],
      "metadata": {
        "colab": {
          "base_uri": "https://localhost:8080/"
        },
        "id": "8dly1YNG0-j_",
        "outputId": "13aa4fa9-5a1d-41be-d009-8d24f09ccdbd"
      },
      "execution_count": null,
      "outputs": [
        {
          "output_type": "stream",
          "name": "stdout",
          "text": [
            "1.5533932175343832\n"
          ]
        }
      ]
    },
    {
      "cell_type": "markdown",
      "source": [
        "Vamos dar um _fit_, ou seja, \"ajustar\" o modelo."
      ],
      "metadata": {
        "id": "0d925iBdQW-o"
      }
    },
    {
      "cell_type": "code",
      "source": [
        "ms = MeanShift(bandwidth=bandwidth, bin_seeding=True)\n",
        "ms.fit(X)\n",
        "labels = ms.labels_\n",
        "cluster_centers = ms.cluster_centers_"
      ],
      "metadata": {
        "id": "hl_cI_8d1EGO"
      },
      "execution_count": null,
      "outputs": []
    },
    {
      "cell_type": "markdown",
      "source": [
        "Vamos identificar as labels únicas e o número de clusters."
      ],
      "metadata": {
        "id": "_OgiwnYgWRjB"
      }
    },
    {
      "cell_type": "code",
      "source": [
        "unique_labels = np.unique(labels)\n",
        "n_clusters = len(unique_labels)\n",
        "print(f\"Number of estimated clusters: {n_clusters}\")"
      ],
      "metadata": {
        "colab": {
          "base_uri": "https://localhost:8080/"
        },
        "id": "Gx3Ou1hsWacU",
        "outputId": "a273157f-c01f-4e97-a95f-82c2f1632377"
      },
      "execution_count": null,
      "outputs": [
        {
          "output_type": "stream",
          "name": "stdout",
          "text": [
            "Number of estimated clusters: 4\n"
          ]
        }
      ]
    },
    {
      "cell_type": "markdown",
      "source": [
        "Por fim, vamos plotar os _clusterings_."
      ],
      "metadata": {
        "id": "L9nf2zgsWeh0"
      }
    },
    {
      "cell_type": "code",
      "source": [
        "# Plotting the clusters\n",
        "colors = ['r.', 'g.', 'b.', 'y.', 'c.', 'm.', 'k.']\n",
        "for i in range(len(X)):\n",
        "    plt.plot(X[i][0], X[i][1], colors[labels[i]], markersize=10)\n",
        "\n",
        "# Plotting cluster centers\n",
        "plt.scatter(cluster_centers[:, 0], cluster_centers[:, 1], marker='x', s=150, linewidths=5, zorder=10, color='black')\n",
        "plt.title('Mean Shift Clustering do Wine dataset (Features: Flavanoids vs Proline)')\n",
        "plt.xlabel('Flavanoids')\n",
        "plt.ylabel('Proline')\n",
        "plt.show()"
      ],
      "metadata": {
        "colab": {
          "base_uri": "https://localhost:8080/",
          "height": 472
        },
        "id": "-CvW__XxWlMV",
        "outputId": "be1428ee-3c5d-4b48-d98d-e2da54903e15"
      },
      "execution_count": null,
      "outputs": [
        {
          "output_type": "display_data",
          "data": {
            "text/plain": [
              "<Figure size 640x480 with 1 Axes>"
            ],
            "image/png": "[encoded data removed]"
          },
          "metadata": {}
        }
      ]
    }
  ]
}