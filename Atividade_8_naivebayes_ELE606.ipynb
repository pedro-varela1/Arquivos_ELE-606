{
  "nbformat": 4,
  "nbformat_minor": 0,
  "metadata": {
    "colab": {
      "provenance": [],
      "authorship_tag": "ABX9TyMsikY6sI6eDpD08ZVdrX+N",
      "include_colab_link": true
    },
    "kernelspec": {
      "name": "python3",
      "display_name": "Python 3"
    },
    "language_info": {
      "name": "python"
    }
  },
  "cells": [
    {
      "cell_type": "markdown",
      "metadata": {
        "id": "view-in-github",
        "colab_type": "text"
      },
      "source": [
        "<a href=\"https://colab.research.google.com/github/pedro-varela1/Arquivos_ELE-606/blob/main/Atividade_8_naivebayes_ELE606.ipynb\" target=\"_parent\"><img src=\"https://colab.research.google.com/assets/colab-badge.svg\" alt=\"Open In Colab\"/></a>"
      ]
    },
    {
      "cell_type": "markdown",
      "source": [
        "# Classificação com Naive Bayes\n",
        "## ELE606 - Tópicos Especiais em Inteligência Artificial\n",
        "\n",
        "> Aluno: [Pedro Artur Varela](https://github.com/pedro-varela1)\n",
        "\n",
        "<img src=\"https://th.bing.com/th/id/OIP.ZPnmAh8kZslRizhzkJCZGAHaDt?rs=1&pid=ImgDetMain\"\n",
        "    style=\"width:500px; float: right; margin: 0 40px 40px 40px;\"></img>\n",
        "  \n",
        "![divider](https://webstockreview.net/images/divider-clipart-design-line-5.png)\n",
        "\n"
      ],
      "metadata": {
        "id": "5CYzLRp8jp1y"
      }
    },
    {
      "cell_type": "markdown",
      "source": [
        "## Introdução\n",
        "\n",
        "O classificador Naive Bayes, um algoritmo popular e extremamente claro, assume que todos os recursos são independentes uns dos outros para simplificar o cálculo.\n",
        "\n",
        "MNIST é um dos conjuntos de dados amplamente utilizados. Contém 60.000 imagens para treinamento e 10.000 imagens para validação. Cada imagem contém um dígito manuscrito de 0 a 9. A tarefa é classificar cada imagem no dígito correspondente. Cada imagem é uma imagem em tons de cinza com largura e altura de 28 com formato (28, 28, 1).\n",
        "\n",
        "---"
      ],
      "metadata": {
        "id": "PTC_OuHhyf50"
      }
    },
    {
      "cell_type": "markdown",
      "source": [
        "## Algoritmo e código"
      ],
      "metadata": {
        "id": "XQere5xRzFRe"
      }
    },
    {
      "cell_type": "markdown",
      "source": [
        "### Pré-processamento dos dados"
      ],
      "metadata": {
        "id": "Lxz8urInSruN"
      }
    },
    {
      "cell_type": "markdown",
      "source": [
        "Primeiramente, vamos importar os módulos utilizados."
      ],
      "metadata": {
        "id": "fZqXlN9QzPvO"
      }
    },
    {
      "cell_type": "code",
      "execution_count": null,
      "metadata": {
        "id": "X_Alo1CNw9U6"
      },
      "outputs": [],
      "source": [
        "import torch    # Modelagem\n",
        "from torchvision import datasets, transforms    # Carregar Datset e Tranformations\n",
        "from sklearn.naive_bayes import GaussianNB    # Treinamento do Modelo\n",
        "from sklearn.metrics import accuracy_score    # Medicao de Acuracia\n",
        "import matplotlib.pyplot as plt   # Visualization"
      ]
    },
    {
      "cell_type": "markdown",
      "source": [
        "Vamos carregar a base de dados, vetorizar e normalizá-la."
      ],
      "metadata": {
        "id": "Js3IlcfR0S_2"
      }
    },
    {
      "cell_type": "code",
      "source": [
        "# Load MNIST dataset\n",
        "transform = transforms.Compose([\n",
        "    transforms.ToTensor(),\n",
        "    transforms.Normalize((0.5,), (0.5,))\n",
        "])\n",
        "\n",
        "train_dataset = datasets.MNIST(root='./data', train=True, download=True, transform=transform)\n",
        "test_dataset = datasets.MNIST(root='./data', train=False, download=True, transform=transform)\n",
        "\n",
        "train_loader = torch.utils.data.DataLoader(train_dataset, batch_size=64, shuffle=True)\n",
        "test_loader = torch.utils.data.DataLoader(test_dataset, batch_size=64, shuffle=False)"
      ],
      "metadata": {
        "id": "9B4OvHyNPnFn"
      },
      "execution_count": null,
      "outputs": []
    },
    {
      "cell_type": "markdown",
      "source": [
        "Vamos visualizar alguns dados que vão ser utilizados no treinamento."
      ],
      "metadata": {
        "id": "Xh5wFGwK0zLG"
      }
    },
    {
      "cell_type": "code",
      "source": [
        "# Display the first 3 images from the MNIST training dataset\n",
        "fig, axs = plt.subplots(1, 3, figsize=(8, 3))\n",
        "\n",
        "for i in range(3):\n",
        "    axs[i].imshow(train_loader.dataset.data[i], cmap='gray')\n",
        "    axs[i].set_title(f\"Label: {train_loader.dataset.targets[i]}\")\n",
        "    axs[i].axis('off')\n",
        "\n",
        "plt.tight_layout()\n",
        "plt.show()"
      ],
      "metadata": {
        "colab": {
          "base_uri": "https://localhost:8080/",
          "height": 306
        },
        "id": "8dly1YNG0-j_",
        "outputId": "1023a87a-61f9-4c0b-cd1e-a12d400ae398"
      },
      "execution_count": null,
      "outputs": [
        {
          "output_type": "display_data",
          "data": {
            "text/plain": [
              "<Figure size 800x300 with 3 Axes>"
            ],
            "image/png": "[encoded data removed]"
          },
          "metadata": {}
        }
      ]
    },
    {
      "cell_type": "markdown",
      "source": [
        "Vamos preparar os dados."
      ],
      "metadata": {
        "id": "0d925iBdQW-o"
      }
    },
    {
      "cell_type": "code",
      "source": [
        "# Prepare data\n",
        "train_data = train_loader.dataset.data.numpy().reshape(-1, 28*28)\n",
        "train_labels = train_loader.dataset.targets.numpy()\n",
        "\n",
        "test_data = test_loader.dataset.data.numpy().reshape(-1, 28*28)\n",
        "test_labels = test_loader.dataset.targets.numpy()"
      ],
      "metadata": {
        "id": "hl_cI_8d1EGO"
      },
      "execution_count": null,
      "outputs": []
    },
    {
      "cell_type": "markdown",
      "source": [
        "### Treinamento do Modelo"
      ],
      "metadata": {
        "id": "GTx0HIq7BOe5"
      }
    },
    {
      "cell_type": "code",
      "source": [
        "# Fit Gaussian Naive Bayes\n",
        "gnb = GaussianNB()\n",
        "gnb.fit(train_data, train_labels)"
      ],
      "metadata": {
        "id": "zmCicDTU_FTc",
        "colab": {
          "base_uri": "https://localhost:8080/",
          "height": 75
        },
        "outputId": "6d4d277f-5357-447d-81f2-c6f3ac0b8f13"
      },
      "execution_count": null,
      "outputs": [
        {
          "output_type": "execute_result",
          "data": {
            "text/plain": [
              "GaussianNB()"
            ],
            "text/html": [
              "<style>#sk-container-id-1 {color: black;background-color: white;}#sk-container-id-1 pre{padding: 0;}#sk-container-id-1 div.sk-toggleable {background-color: white;}#sk-container-id-1 label.sk-toggleable__label {cursor: pointer;display: block;width: 100%;margin-bottom: 0;padding: 0.3em;box-sizing: border-box;text-align: center;}#sk-container-id-1 label.sk-toggleable__label-arrow:before {content: \"▸\";float: left;margin-right: 0.25em;color: #696969;}#sk-container-id-1 label.sk-toggleable__label-arrow:hover:before {color: black;}#sk-container-id-1 div.sk-estimator:hover label.sk-toggleable__label-arrow:before {color: black;}#sk-container-id-1 div.sk-toggleable__content {max-height: 0;max-width: 0;overflow: hidden;text-align: left;background-color: #f0f8ff;}#sk-container-id-1 div.sk-toggleable__content pre {margin: 0.2em;color: black;border-radius: 0.25em;background-color: #f0f8ff;}#sk-container-id-1 input.sk-toggleable__control:checked~div.sk-toggleable__content {max-height: 200px;max-width: 100%;overflow: auto;}#sk-container-id-1 input.sk-toggleable__control:checked~label.sk-toggleable__label-arrow:before {content: \"▾\";}#sk-container-id-1 div.sk-estimator input.sk-toggleable__control:checked~label.sk-toggleable__label {background-color: #d4ebff;}#sk-container-id-1 div.sk-label input.sk-toggleable__control:checked~label.sk-toggleable__label {background-color: #d4ebff;}#sk-container-id-1 input.sk-hidden--visually {border: 0;clip: rect(1px 1px 1px 1px);clip: rect(1px, 1px, 1px, 1px);height: 1px;margin: -1px;overflow: hidden;padding: 0;position: absolute;width: 1px;}#sk-container-id-1 div.sk-estimator {font-family: monospace;background-color: #f0f8ff;border: 1px dotted black;border-radius: 0.25em;box-sizing: border-box;margin-bottom: 0.5em;}#sk-container-id-1 div.sk-estimator:hover {background-color: #d4ebff;}#sk-container-id-1 div.sk-parallel-item::after {content: \"\";width: 100%;border-bottom: 1px solid gray;flex-grow: 1;}#sk-container-id-1 div.sk-label:hover label.sk-toggleable__label {background-color: #d4ebff;}#sk-container-id-1 div.sk-serial::before {content: \"\";position: absolute;border-left: 1px solid gray;box-sizing: border-box;top: 0;bottom: 0;left: 50%;z-index: 0;}#sk-container-id-1 div.sk-serial {display: flex;flex-direction: column;align-items: center;background-color: white;padding-right: 0.2em;padding-left: 0.2em;position: relative;}#sk-container-id-1 div.sk-item {position: relative;z-index: 1;}#sk-container-id-1 div.sk-parallel {display: flex;align-items: stretch;justify-content: center;background-color: white;position: relative;}#sk-container-id-1 div.sk-item::before, #sk-container-id-1 div.sk-parallel-item::before {content: \"\";position: absolute;border-left: 1px solid gray;box-sizing: border-box;top: 0;bottom: 0;left: 50%;z-index: -1;}#sk-container-id-1 div.sk-parallel-item {display: flex;flex-direction: column;z-index: 1;position: relative;background-color: white;}#sk-container-id-1 div.sk-parallel-item:first-child::after {align-self: flex-end;width: 50%;}#sk-container-id-1 div.sk-parallel-item:last-child::after {align-self: flex-start;width: 50%;}#sk-container-id-1 div.sk-parallel-item:only-child::after {width: 0;}#sk-container-id-1 div.sk-dashed-wrapped {border: 1px dashed gray;margin: 0 0.4em 0.5em 0.4em;box-sizing: border-box;padding-bottom: 0.4em;background-color: white;}#sk-container-id-1 div.sk-label label {font-family: monospace;font-weight: bold;display: inline-block;line-height: 1.2em;}#sk-container-id-1 div.sk-label-container {text-align: center;}#sk-container-id-1 div.sk-container {/* jupyter's `normalize.less` sets `[hidden] { display: none; }` but bootstrap.min.css set `[hidden] { display: none !important; }` so we also need the `!important` here to be able to override the default hidden behavior on the sphinx rendered scikit-learn.org. See: https://github.com/scikit-learn/scikit-learn/issues/21755 */display: inline-block !important;position: relative;}#sk-container-id-1 div.sk-text-repr-fallback {display: none;}</style><div id=\"sk-container-id-1\" class=\"sk-top-container\"><div class=\"sk-text-repr-fallback\"><pre>GaussianNB()</pre><b>In a Jupyter environment, please rerun this cell to show the HTML representation or trust the notebook. <br />On GitHub, the HTML representation is unable to render, please try loading this page with nbviewer.org.</b></div><div class=\"sk-container\" hidden><div class=\"sk-item\"><div class=\"sk-estimator sk-toggleable\"><input class=\"sk-toggleable__control sk-hidden--visually\" id=\"sk-estimator-id-1\" type=\"checkbox\" checked><label for=\"sk-estimator-id-1\" class=\"sk-toggleable__label sk-toggleable__label-arrow\">GaussianNB</label><div class=\"sk-toggleable__content\"><pre>GaussianNB()</pre></div></div></div></div></div>"
            ]
          },
          "metadata": {},
          "execution_count": 5
        }
      ]
    },
    {
      "cell_type": "markdown",
      "source": [
        "### Análise dos Resultados"
      ],
      "metadata": {
        "id": "0BoJdptOSVuP"
      }
    },
    {
      "cell_type": "markdown",
      "source": [
        "Primeiramente, vamos fazer a previsão da acurácia."
      ],
      "metadata": {
        "id": "y0mIY1ahSliF"
      }
    },
    {
      "cell_type": "code",
      "source": [
        "# Predict and calculate accuracy\n",
        "predictions = gnb.predict(test_data)\n",
        "accuracy = accuracy_score(test_labels, predictions)\n",
        "print(f\"Accuracy: {accuracy * 100:.2f}%\")"
      ],
      "metadata": {
        "colab": {
          "base_uri": "https://localhost:8080/"
        },
        "id": "rWdPEj8XRF_J",
        "outputId": "bfbd674f-14cc-4499-ec2d-3ad8292802af"
      },
      "execution_count": null,
      "outputs": [
        {
          "output_type": "stream",
          "name": "stdout",
          "text": [
            "Accuracy: 55.58%\n"
          ]
        }
      ]
    },
    {
      "cell_type": "markdown",
      "source": [
        "A acurácia foi muito baixa, vamos ver algumas predições."
      ],
      "metadata": {
        "id": "ey2jehxySEau"
      }
    },
    {
      "cell_type": "code",
      "source": [
        "# Display the first 8 images from the test set with predictions\n",
        "fig, axs = plt.subplots(1, 8, figsize=(20, 3))\n",
        "\n",
        "for i in range(8):\n",
        "    axs[i].imshow(test_data[i].reshape(28, 28), cmap='gray')\n",
        "    axs[i].set_title(f\"Prediction: {predictions[i]}, True label: {test_labels[i]}\")\n",
        "    axs[i].axis('off')\n",
        "\n",
        "plt.tight_layout()\n",
        "plt.show()"
      ],
      "metadata": {
        "colab": {
          "base_uri": "https://localhost:8080/",
          "height": 182
        },
        "id": "1WsoCC02SPgy",
        "outputId": "908f1116-96eb-4418-fa8a-9fead4f04686"
      },
      "execution_count": null,
      "outputs": [
        {
          "output_type": "display_data",
          "data": {
            "text/plain": [
              "<Figure size 2000x300 with 8 Axes>"
            ],
            "image/png": "[encoded data removed]"
          },
          "metadata": {}
        }
      ]
    },
    {
      "cell_type": "markdown",
      "source": [
        "Vê-se uma acurácia muito pequena, isso acontece porque o classificador Gaussian Naive Bayes pode não ser a melhor escolha para o conjunto de dados MNIST, pois assume independência entre recursos, o que não é válido para dados de imagem."
      ],
      "metadata": {
        "id": "Kn8oa7kgRoUt"
      }
    }
  ]
}